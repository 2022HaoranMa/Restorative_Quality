
from transformers import GLPNFeatureExtractor, GLPNForDepthEstimation
from PIL import Image
feature_extractor = GLPNFeatureExtractor.from_pretrained("vinvino02/glpn-nyu")
model = GLPNForDepthEstimation.from_pretrained("vinvino02/glpn-nyu")
